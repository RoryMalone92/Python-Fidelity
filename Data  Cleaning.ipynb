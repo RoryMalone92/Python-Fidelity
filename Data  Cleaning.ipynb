{
 "cells": [
  {
   "cell_type": "code",
   "execution_count": 13,
   "id": "cece32f2",
   "metadata": {},
   "outputs": [],
   "source": [
    "# import pandas and give an alias\n",
    "\n",
    "import pandas as pd"
   ]
  },
  {
   "cell_type": "code",
   "execution_count": 14,
   "id": "f3fb453a",
   "metadata": {},
   "outputs": [],
   "source": [
    "# www.kaggle.com for data\n",
    "\n",
    "df = pandas.read_csv(\"netflix_titles.csv\")"
   ]
  },
  {
   "cell_type": "code",
   "execution_count": 27,
   "id": "9f1f8d38",
   "metadata": {},
   "outputs": [
    {
     "name": "stdout",
     "output_type": "stream",
     "text": [
      "<class 'pandas.core.frame.DataFrame'>\n",
      "RangeIndex: 8807 entries, 0 to 8806\n",
      "Data columns (total 12 columns):\n",
      " #   Column        Non-Null Count  Dtype \n",
      "---  ------        --------------  ----- \n",
      " 0   show_id       8807 non-null   object\n",
      " 1   type          8807 non-null   object\n",
      " 2   title         8807 non-null   object\n",
      " 3   director      6173 non-null   object\n",
      " 4   cast          7982 non-null   object\n",
      " 5   country       7976 non-null   object\n",
      " 6   date_added    8797 non-null   object\n",
      " 7   release_year  8807 non-null   int64 \n",
      " 8   rating        8803 non-null   object\n",
      " 9   duration      8804 non-null   object\n",
      " 10  listed_in     8807 non-null   object\n",
      " 11  description   8807 non-null   object\n",
      "dtypes: int64(1), object(11)\n",
      "memory usage: 825.8+ KB\n"
     ]
    },
    {
     "data": {
      "text/plain": [
       "(8807, 12)"
      ]
     },
     "execution_count": 27,
     "metadata": {},
     "output_type": "execute_result"
    }
   ],
   "source": [
    "# show table\n",
    "df\n",
    "\n",
    "# show basic info\n",
    "df.info()\n",
    "\n",
    "#show desc stats\n",
    "df.describe()\n",
    "\n",
    "#find missing values\n",
    "\n",
    "df.isna().sum()\n",
    "df.shape"
   ]
  },
  {
   "cell_type": "code",
   "execution_count": 28,
   "id": "e0b1807e",
   "metadata": {},
   "outputs": [
    {
     "data": {
      "text/plain": [
       "(5332, 12)"
      ]
     },
     "execution_count": 28,
     "metadata": {},
     "output_type": "execute_result"
    }
   ],
   "source": [
    "#create table excluding any rows with na values\n",
    "df_cleaned = df.dropna()\n",
    "df_cleaned.shape"
   ]
  },
  {
   "cell_type": "code",
   "execution_count": 29,
   "id": "6d5b9c73",
   "metadata": {},
   "outputs": [],
   "source": [
    "# too much data dropped, alternative method is to fill missing data\n",
    "df_cleaned = df.fillna(0)\n",
    "\n",
    "# could use df.fillna(mean) etc, does not work for strings\n",
    "\n",
    "# could also use ffill or bfill - forward fill and backfill from next or previous row\n"
   ]
  },
  {
   "cell_type": "code",
   "execution_count": 33,
   "id": "844de3fb",
   "metadata": {},
   "outputs": [
    {
     "data": {
      "text/plain": [
       "(8807, 12)"
      ]
     },
     "execution_count": 33,
     "metadata": {},
     "output_type": "execute_result"
    }
   ],
   "source": [
    "# other ways to clean - drop duplicates\n",
    "\n",
    "df_cleaned = df.drop_duplicates()\n",
    "df_cleaned.shape\n",
    "\n",
    "# no impact, because show_id appears to be unique"
   ]
  },
  {
   "cell_type": "code",
   "execution_count": 36,
   "id": "c4347200",
   "metadata": {},
   "outputs": [
    {
     "data": {
      "text/plain": [
       "(8277, 12)"
      ]
     },
     "execution_count": 36,
     "metadata": {},
     "output_type": "execute_result"
    }
   ],
   "source": [
    "df_cleaned = df.drop_duplicates(subset=[\"type\", \"director\", \"cast\"])\n",
    "df_cleaned.shape"
   ]
  },
  {
   "cell_type": "code",
   "execution_count": null,
   "id": "055a6cb0",
   "metadata": {},
   "outputs": [],
   "source": []
  }
 ],
 "metadata": {
  "kernelspec": {
   "display_name": "Python 3 (ipykernel)",
   "language": "python",
   "name": "python3"
  },
  "language_info": {
   "codemirror_mode": {
    "name": "ipython",
    "version": 3
   },
   "file_extension": ".py",
   "mimetype": "text/x-python",
   "name": "python",
   "nbconvert_exporter": "python",
   "pygments_lexer": "ipython3",
   "version": "3.9.7"
  }
 },
 "nbformat": 4,
 "nbformat_minor": 5
}
